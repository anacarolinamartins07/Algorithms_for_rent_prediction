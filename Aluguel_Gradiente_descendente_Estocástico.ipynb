{
  "nbformat": 4,
  "nbformat_minor": 0,
  "metadata": {
    "colab": {
      "provenance": [],
      "authorship_tag": "ABX9TyMdbNTBxjg1IBHq8gK5YHZa",
      "include_colab_link": true
    },
    "kernelspec": {
      "name": "python3",
      "display_name": "Python 3"
    },
    "language_info": {
      "name": "python"
    }
  },
  "cells": [
    {
      "cell_type": "markdown",
      "metadata": {
        "id": "view-in-github",
        "colab_type": "text"
      },
      "source": [
        "<a href=\"https://colab.research.google.com/github/anacarolinamartins07/Algorithms_for_rent_prediction/blob/main/Aluguel_Gradiente_descendente_Estoc%C3%A1stico.ipynb\" target=\"_parent\"><img src=\"https://colab.research.google.com/assets/colab-badge.svg\" alt=\"Open In Colab\"/></a>"
      ]
    },
    {
      "cell_type": "markdown",
      "source": [
        "## Declaração do Problema\n",
        "Objetivo: Prever o preço do aluguel (valor_aluguel) de propriedades residenciais.\n",
        "\n",
        "Descrição do Conjunto de Dados:\n",
        "O conjunto de dados consiste em informações sobre várias propriedades residenciais, incluindo sua localização, atributos físicos e custos associados. Cada linha representa um anúncio de propriedade com vários recursos como: area, quartos, mobiliaria, vagas_garagem dentre outras informações. Nessa previsão iremos construir uma rede reural usando o gradiente descendente estocástico.\n",
        "\n",
        "O gradiente descendente estocástico é um algoritmo de otimização usado para treinar modelos de aprendizado de máquina. Ele atualiza os parâmetros do modelo iterativamente, minimizando a função de perda, calculando o gradiente da função de perda em relação aos parâmetros. A abordagem estocástica envolve a atualização dos parâmetros em lotes de dados de treinamento selecionados aleatoriamente, em vez de usar todo o conjunto de dados de uma vez, tornando-o computacionalmente eficiente e permitindo uma convergência mais rápida."
      ],
      "metadata": {
        "id": "T74z-3SpId7N"
      }
    },
    {
      "cell_type": "code",
      "execution_count": null,
      "metadata": {
        "colab": {
          "base_uri": "https://localhost:8080/",
          "height": 35
        },
        "id": "XUKIi0pAu4Vn",
        "outputId": "9ab334f3-f29c-457e-dc38-4cf91b7d55e0"
      },
      "outputs": [
        {
          "output_type": "execute_result",
          "data": {
            "text/plain": [
              "'2.15.0'"
            ],
            "application/vnd.google.colaboratory.intrinsic+json": {
              "type": "string"
            }
          },
          "metadata": {},
          "execution_count": 55
        }
      ],
      "source": [
        "#importando as bibiotecas\n",
        "import numpy as np\n",
        "import pandas as pd\n",
        "import tensorflow as tf\n",
        "tf.__version__ #ver versao do tensorflow"
      ]
    },
    {
      "cell_type": "markdown",
      "source": [
        "### Coleta e análise de Dados"
      ],
      "metadata": {
        "id": "08tLBK8rvua4"
      }
    },
    {
      "cell_type": "code",
      "source": [
        "#importando conjunto de dados\n",
        "\n",
        "df= pd.read_csv(\"/content/aluguel.csv\", sep= \";\")\n",
        "df.head()"
      ],
      "metadata": {
        "colab": {
          "base_uri": "https://localhost:8080/",
          "height": 309
        },
        "id": "9pXzEWYVvcpq",
        "outputId": "ffe95a51-dbfa-4332-b033-5dabf0ef1ca2"
      },
      "execution_count": null,
      "outputs": [
        {
          "output_type": "execute_result",
          "data": {
            "text/plain": [
              "         cidade  area  quartos  banheiros  vagas_garagem  andar  \\\n",
              "0     São Paulo    70        2          1              1      7   \n",
              "1     São Paulo   320        4          4              0     20   \n",
              "2  Porto Alegre    80        1          1              1      6   \n",
              "3  Porto Alegre    51        2          1              0      2   \n",
              "4     São Paulo    25        1          1              0      1   \n",
              "\n",
              "   aceita_animal  mobiliaria  valor_condominio  valor_aluguel  valor_iptu  \\\n",
              "0              1           1              2065           3300         211   \n",
              "1              1           0              1200           4960        1750   \n",
              "2              1           0              1000           2800           0   \n",
              "3              1           0               270           1112          22   \n",
              "4              0           0                 0            800          25   \n",
              "\n",
              "   valor_seguro  valor_total  \n",
              "0            42         5618  \n",
              "1            63         7973  \n",
              "2            41         3841  \n",
              "3            17         1421  \n",
              "4            11          836  "
            ],
            "text/html": [
              "\n",
              "  <div id=\"df-e9962402-c10d-43de-94cb-d56e56cc6318\" class=\"colab-df-container\">\n",
              "    <div>\n",
              "<style scoped>\n",
              "    .dataframe tbody tr th:only-of-type {\n",
              "        vertical-align: middle;\n",
              "    }\n",
              "\n",
              "    .dataframe tbody tr th {\n",
              "        vertical-align: top;\n",
              "    }\n",
              "\n",
              "    .dataframe thead th {\n",
              "        text-align: right;\n",
              "    }\n",
              "</style>\n",
              "<table border=\"1\" class=\"dataframe\">\n",
              "  <thead>\n",
              "    <tr style=\"text-align: right;\">\n",
              "      <th></th>\n",
              "      <th>cidade</th>\n",
              "      <th>area</th>\n",
              "      <th>quartos</th>\n",
              "      <th>banheiros</th>\n",
              "      <th>vagas_garagem</th>\n",
              "      <th>andar</th>\n",
              "      <th>aceita_animal</th>\n",
              "      <th>mobiliaria</th>\n",
              "      <th>valor_condominio</th>\n",
              "      <th>valor_aluguel</th>\n",
              "      <th>valor_iptu</th>\n",
              "      <th>valor_seguro</th>\n",
              "      <th>valor_total</th>\n",
              "    </tr>\n",
              "  </thead>\n",
              "  <tbody>\n",
              "    <tr>\n",
              "      <th>0</th>\n",
              "      <td>São Paulo</td>\n",
              "      <td>70</td>\n",
              "      <td>2</td>\n",
              "      <td>1</td>\n",
              "      <td>1</td>\n",
              "      <td>7</td>\n",
              "      <td>1</td>\n",
              "      <td>1</td>\n",
              "      <td>2065</td>\n",
              "      <td>3300</td>\n",
              "      <td>211</td>\n",
              "      <td>42</td>\n",
              "      <td>5618</td>\n",
              "    </tr>\n",
              "    <tr>\n",
              "      <th>1</th>\n",
              "      <td>São Paulo</td>\n",
              "      <td>320</td>\n",
              "      <td>4</td>\n",
              "      <td>4</td>\n",
              "      <td>0</td>\n",
              "      <td>20</td>\n",
              "      <td>1</td>\n",
              "      <td>0</td>\n",
              "      <td>1200</td>\n",
              "      <td>4960</td>\n",
              "      <td>1750</td>\n",
              "      <td>63</td>\n",
              "      <td>7973</td>\n",
              "    </tr>\n",
              "    <tr>\n",
              "      <th>2</th>\n",
              "      <td>Porto Alegre</td>\n",
              "      <td>80</td>\n",
              "      <td>1</td>\n",
              "      <td>1</td>\n",
              "      <td>1</td>\n",
              "      <td>6</td>\n",
              "      <td>1</td>\n",
              "      <td>0</td>\n",
              "      <td>1000</td>\n",
              "      <td>2800</td>\n",
              "      <td>0</td>\n",
              "      <td>41</td>\n",
              "      <td>3841</td>\n",
              "    </tr>\n",
              "    <tr>\n",
              "      <th>3</th>\n",
              "      <td>Porto Alegre</td>\n",
              "      <td>51</td>\n",
              "      <td>2</td>\n",
              "      <td>1</td>\n",
              "      <td>0</td>\n",
              "      <td>2</td>\n",
              "      <td>1</td>\n",
              "      <td>0</td>\n",
              "      <td>270</td>\n",
              "      <td>1112</td>\n",
              "      <td>22</td>\n",
              "      <td>17</td>\n",
              "      <td>1421</td>\n",
              "    </tr>\n",
              "    <tr>\n",
              "      <th>4</th>\n",
              "      <td>São Paulo</td>\n",
              "      <td>25</td>\n",
              "      <td>1</td>\n",
              "      <td>1</td>\n",
              "      <td>0</td>\n",
              "      <td>1</td>\n",
              "      <td>0</td>\n",
              "      <td>0</td>\n",
              "      <td>0</td>\n",
              "      <td>800</td>\n",
              "      <td>25</td>\n",
              "      <td>11</td>\n",
              "      <td>836</td>\n",
              "    </tr>\n",
              "  </tbody>\n",
              "</table>\n",
              "</div>\n",
              "    <div class=\"colab-df-buttons\">\n",
              "\n",
              "  <div class=\"colab-df-container\">\n",
              "    <button class=\"colab-df-convert\" onclick=\"convertToInteractive('df-e9962402-c10d-43de-94cb-d56e56cc6318')\"\n",
              "            title=\"Convert this dataframe to an interactive table.\"\n",
              "            style=\"display:none;\">\n",
              "\n",
              "  <svg xmlns=\"http://www.w3.org/2000/svg\" height=\"24px\" viewBox=\"0 -960 960 960\">\n",
              "    <path d=\"M120-120v-720h720v720H120Zm60-500h600v-160H180v160Zm220 220h160v-160H400v160Zm0 220h160v-160H400v160ZM180-400h160v-160H180v160Zm440 0h160v-160H620v160ZM180-180h160v-160H180v160Zm440 0h160v-160H620v160Z\"/>\n",
              "  </svg>\n",
              "    </button>\n",
              "\n",
              "  <style>\n",
              "    .colab-df-container {\n",
              "      display:flex;\n",
              "      gap: 12px;\n",
              "    }\n",
              "\n",
              "    .colab-df-convert {\n",
              "      background-color: #E8F0FE;\n",
              "      border: none;\n",
              "      border-radius: 50%;\n",
              "      cursor: pointer;\n",
              "      display: none;\n",
              "      fill: #1967D2;\n",
              "      height: 32px;\n",
              "      padding: 0 0 0 0;\n",
              "      width: 32px;\n",
              "    }\n",
              "\n",
              "    .colab-df-convert:hover {\n",
              "      background-color: #E2EBFA;\n",
              "      box-shadow: 0px 1px 2px rgba(60, 64, 67, 0.3), 0px 1px 3px 1px rgba(60, 64, 67, 0.15);\n",
              "      fill: #174EA6;\n",
              "    }\n",
              "\n",
              "    .colab-df-buttons div {\n",
              "      margin-bottom: 4px;\n",
              "    }\n",
              "\n",
              "    [theme=dark] .colab-df-convert {\n",
              "      background-color: #3B4455;\n",
              "      fill: #D2E3FC;\n",
              "    }\n",
              "\n",
              "    [theme=dark] .colab-df-convert:hover {\n",
              "      background-color: #434B5C;\n",
              "      box-shadow: 0px 1px 3px 1px rgba(0, 0, 0, 0.15);\n",
              "      filter: drop-shadow(0px 1px 2px rgba(0, 0, 0, 0.3));\n",
              "      fill: #FFFFFF;\n",
              "    }\n",
              "  </style>\n",
              "\n",
              "    <script>\n",
              "      const buttonEl =\n",
              "        document.querySelector('#df-e9962402-c10d-43de-94cb-d56e56cc6318 button.colab-df-convert');\n",
              "      buttonEl.style.display =\n",
              "        google.colab.kernel.accessAllowed ? 'block' : 'none';\n",
              "\n",
              "      async function convertToInteractive(key) {\n",
              "        const element = document.querySelector('#df-e9962402-c10d-43de-94cb-d56e56cc6318');\n",
              "        const dataTable =\n",
              "          await google.colab.kernel.invokeFunction('convertToInteractive',\n",
              "                                                    [key], {});\n",
              "        if (!dataTable) return;\n",
              "\n",
              "        const docLinkHtml = 'Like what you see? Visit the ' +\n",
              "          '<a target=\"_blank\" href=https://colab.research.google.com/notebooks/data_table.ipynb>data table notebook</a>'\n",
              "          + ' to learn more about interactive tables.';\n",
              "        element.innerHTML = '';\n",
              "        dataTable['output_type'] = 'display_data';\n",
              "        await google.colab.output.renderOutput(dataTable, element);\n",
              "        const docLink = document.createElement('div');\n",
              "        docLink.innerHTML = docLinkHtml;\n",
              "        element.appendChild(docLink);\n",
              "      }\n",
              "    </script>\n",
              "  </div>\n",
              "\n",
              "\n",
              "<div id=\"df-e00ea5d9-c368-4d6d-a060-609fc12028cc\">\n",
              "  <button class=\"colab-df-quickchart\" onclick=\"quickchart('df-e00ea5d9-c368-4d6d-a060-609fc12028cc')\"\n",
              "            title=\"Suggest charts\"\n",
              "            style=\"display:none;\">\n",
              "\n",
              "<svg xmlns=\"http://www.w3.org/2000/svg\" height=\"24px\"viewBox=\"0 0 24 24\"\n",
              "     width=\"24px\">\n",
              "    <g>\n",
              "        <path d=\"M19 3H5c-1.1 0-2 .9-2 2v14c0 1.1.9 2 2 2h14c1.1 0 2-.9 2-2V5c0-1.1-.9-2-2-2zM9 17H7v-7h2v7zm4 0h-2V7h2v10zm4 0h-2v-4h2v4z\"/>\n",
              "    </g>\n",
              "</svg>\n",
              "  </button>\n",
              "\n",
              "<style>\n",
              "  .colab-df-quickchart {\n",
              "      --bg-color: #E8F0FE;\n",
              "      --fill-color: #1967D2;\n",
              "      --hover-bg-color: #E2EBFA;\n",
              "      --hover-fill-color: #174EA6;\n",
              "      --disabled-fill-color: #AAA;\n",
              "      --disabled-bg-color: #DDD;\n",
              "  }\n",
              "\n",
              "  [theme=dark] .colab-df-quickchart {\n",
              "      --bg-color: #3B4455;\n",
              "      --fill-color: #D2E3FC;\n",
              "      --hover-bg-color: #434B5C;\n",
              "      --hover-fill-color: #FFFFFF;\n",
              "      --disabled-bg-color: #3B4455;\n",
              "      --disabled-fill-color: #666;\n",
              "  }\n",
              "\n",
              "  .colab-df-quickchart {\n",
              "    background-color: var(--bg-color);\n",
              "    border: none;\n",
              "    border-radius: 50%;\n",
              "    cursor: pointer;\n",
              "    display: none;\n",
              "    fill: var(--fill-color);\n",
              "    height: 32px;\n",
              "    padding: 0;\n",
              "    width: 32px;\n",
              "  }\n",
              "\n",
              "  .colab-df-quickchart:hover {\n",
              "    background-color: var(--hover-bg-color);\n",
              "    box-shadow: 0 1px 2px rgba(60, 64, 67, 0.3), 0 1px 3px 1px rgba(60, 64, 67, 0.15);\n",
              "    fill: var(--button-hover-fill-color);\n",
              "  }\n",
              "\n",
              "  .colab-df-quickchart-complete:disabled,\n",
              "  .colab-df-quickchart-complete:disabled:hover {\n",
              "    background-color: var(--disabled-bg-color);\n",
              "    fill: var(--disabled-fill-color);\n",
              "    box-shadow: none;\n",
              "  }\n",
              "\n",
              "  .colab-df-spinner {\n",
              "    border: 2px solid var(--fill-color);\n",
              "    border-color: transparent;\n",
              "    border-bottom-color: var(--fill-color);\n",
              "    animation:\n",
              "      spin 1s steps(1) infinite;\n",
              "  }\n",
              "\n",
              "  @keyframes spin {\n",
              "    0% {\n",
              "      border-color: transparent;\n",
              "      border-bottom-color: var(--fill-color);\n",
              "      border-left-color: var(--fill-color);\n",
              "    }\n",
              "    20% {\n",
              "      border-color: transparent;\n",
              "      border-left-color: var(--fill-color);\n",
              "      border-top-color: var(--fill-color);\n",
              "    }\n",
              "    30% {\n",
              "      border-color: transparent;\n",
              "      border-left-color: var(--fill-color);\n",
              "      border-top-color: var(--fill-color);\n",
              "      border-right-color: var(--fill-color);\n",
              "    }\n",
              "    40% {\n",
              "      border-color: transparent;\n",
              "      border-right-color: var(--fill-color);\n",
              "      border-top-color: var(--fill-color);\n",
              "    }\n",
              "    60% {\n",
              "      border-color: transparent;\n",
              "      border-right-color: var(--fill-color);\n",
              "    }\n",
              "    80% {\n",
              "      border-color: transparent;\n",
              "      border-right-color: var(--fill-color);\n",
              "      border-bottom-color: var(--fill-color);\n",
              "    }\n",
              "    90% {\n",
              "      border-color: transparent;\n",
              "      border-bottom-color: var(--fill-color);\n",
              "    }\n",
              "  }\n",
              "</style>\n",
              "\n",
              "  <script>\n",
              "    async function quickchart(key) {\n",
              "      const quickchartButtonEl =\n",
              "        document.querySelector('#' + key + ' button');\n",
              "      quickchartButtonEl.disabled = true;  // To prevent multiple clicks.\n",
              "      quickchartButtonEl.classList.add('colab-df-spinner');\n",
              "      try {\n",
              "        const charts = await google.colab.kernel.invokeFunction(\n",
              "            'suggestCharts', [key], {});\n",
              "      } catch (error) {\n",
              "        console.error('Error during call to suggestCharts:', error);\n",
              "      }\n",
              "      quickchartButtonEl.classList.remove('colab-df-spinner');\n",
              "      quickchartButtonEl.classList.add('colab-df-quickchart-complete');\n",
              "    }\n",
              "    (() => {\n",
              "      let quickchartButtonEl =\n",
              "        document.querySelector('#df-e00ea5d9-c368-4d6d-a060-609fc12028cc button');\n",
              "      quickchartButtonEl.style.display =\n",
              "        google.colab.kernel.accessAllowed ? 'block' : 'none';\n",
              "    })();\n",
              "  </script>\n",
              "</div>\n",
              "\n",
              "    </div>\n",
              "  </div>\n"
            ],
            "application/vnd.google.colaboratory.intrinsic+json": {
              "type": "dataframe",
              "variable_name": "df",
              "summary": "{\n  \"name\": \"df\",\n  \"rows\": 10685,\n  \"fields\": [\n    {\n      \"column\": \"cidade\",\n      \"properties\": {\n        \"dtype\": \"category\",\n        \"num_unique_values\": 5,\n        \"samples\": [\n          \"Porto Alegre\",\n          \"Belo Horizonte\",\n          \"Rio de Janeiro\"\n        ],\n        \"semantic_type\": \"\",\n        \"description\": \"\"\n      }\n    },\n    {\n      \"column\": \"area\",\n      \"properties\": {\n        \"dtype\": \"number\",\n        \"std\": 537,\n        \"min\": 11,\n        \"max\": 46335,\n        \"num_unique_values\": 517,\n        \"samples\": [\n          255,\n          503,\n          343\n        ],\n        \"semantic_type\": \"\",\n        \"description\": \"\"\n      }\n    },\n    {\n      \"column\": \"quartos\",\n      \"properties\": {\n        \"dtype\": \"number\",\n        \"std\": 1,\n        \"min\": 1,\n        \"max\": 13,\n        \"num_unique_values\": 11,\n        \"samples\": [\n          5,\n          2,\n          13\n        ],\n        \"semantic_type\": \"\",\n        \"description\": \"\"\n      }\n    },\n    {\n      \"column\": \"banheiros\",\n      \"properties\": {\n        \"dtype\": \"number\",\n        \"std\": 1,\n        \"min\": 1,\n        \"max\": 10,\n        \"num_unique_values\": 10,\n        \"samples\": [\n          8,\n          4,\n          5\n        ],\n        \"semantic_type\": \"\",\n        \"description\": \"\"\n      }\n    },\n    {\n      \"column\": \"vagas_garagem\",\n      \"properties\": {\n        \"dtype\": \"number\",\n        \"std\": 1,\n        \"min\": 0,\n        \"max\": 12,\n        \"num_unique_values\": 11,\n        \"samples\": [\n          6,\n          1,\n          10\n        ],\n        \"semantic_type\": \"\",\n        \"description\": \"\"\n      }\n    },\n    {\n      \"column\": \"andar\",\n      \"properties\": {\n        \"dtype\": \"number\",\n        \"std\": 5,\n        \"min\": 0,\n        \"max\": 51,\n        \"num_unique_values\": 35,\n        \"samples\": [\n          23,\n          17,\n          22\n        ],\n        \"semantic_type\": \"\",\n        \"description\": \"\"\n      }\n    },\n    {\n      \"column\": \"aceita_animal\",\n      \"properties\": {\n        \"dtype\": \"number\",\n        \"std\": 0,\n        \"min\": 0,\n        \"max\": 1,\n        \"num_unique_values\": 2,\n        \"samples\": [\n          0,\n          1\n        ],\n        \"semantic_type\": \"\",\n        \"description\": \"\"\n      }\n    },\n    {\n      \"column\": \"mobiliaria\",\n      \"properties\": {\n        \"dtype\": \"number\",\n        \"std\": 0,\n        \"min\": 0,\n        \"max\": 1,\n        \"num_unique_values\": 2,\n        \"samples\": [\n          0,\n          1\n        ],\n        \"semantic_type\": \"\",\n        \"description\": \"\"\n      }\n    },\n    {\n      \"column\": \"valor_condominio\",\n      \"properties\": {\n        \"dtype\": \"number\",\n        \"std\": 1166,\n        \"min\": 0,\n        \"max\": 32000,\n        \"num_unique_values\": 1675,\n        \"samples\": [\n          2128,\n          8362\n        ],\n        \"semantic_type\": \"\",\n        \"description\": \"\"\n      }\n    },\n    {\n      \"column\": \"valor_aluguel\",\n      \"properties\": {\n        \"dtype\": \"number\",\n        \"std\": 3381,\n        \"min\": 450,\n        \"max\": 30000,\n        \"num_unique_values\": 1194,\n        \"samples\": [\n          19000,\n          9180\n        ],\n        \"semantic_type\": \"\",\n        \"description\": \"\"\n      }\n    },\n    {\n      \"column\": \"valor_iptu\",\n      \"properties\": {\n        \"dtype\": \"number\",\n        \"std\": 677,\n        \"min\": 0,\n        \"max\": 28120,\n        \"num_unique_values\": 1241,\n        \"samples\": [\n          1006,\n          1167\n        ],\n        \"semantic_type\": \"\",\n        \"description\": \"\"\n      }\n    },\n    {\n      \"column\": \"valor_seguro\",\n      \"properties\": {\n        \"dtype\": \"number\",\n        \"std\": 47,\n        \"min\": 3,\n        \"max\": 451,\n        \"num_unique_values\": 215,\n        \"samples\": [\n          184,\n          3\n        ],\n        \"semantic_type\": \"\",\n        \"description\": \"\"\n      }\n    },\n    {\n      \"column\": \"valor_total\",\n      \"properties\": {\n        \"dtype\": \"number\",\n        \"std\": 4473,\n        \"min\": 499,\n        \"max\": 32750,\n        \"num_unique_values\": 5745,\n        \"samples\": [\n          1049,\n          4297\n        ],\n        \"semantic_type\": \"\",\n        \"description\": \"\"\n      }\n    }\n  ]\n}"
            }
          },
          "metadata": {},
          "execution_count": 56
        }
      ]
    },
    {
      "cell_type": "markdown",
      "source": [
        "### Pré-Processamento"
      ],
      "metadata": {
        "id": "6jLzKR6Iv105"
      }
    },
    {
      "cell_type": "code",
      "source": [
        "x = df[[\"area\", \"quartos\", \"mobiliaria\"]].values #para pegar as features\n",
        "y= df[\"valor_aluguel\"].values # .values: transforma de df para arrays fazer isso apenas para rn pois sao dados nao estruturados"
      ],
      "metadata": {
        "id": "zfe7Xi34vrOP"
      },
      "execution_count": null,
      "outputs": []
    },
    {
      "cell_type": "markdown",
      "source": [
        "### Modelagem"
      ],
      "metadata": {
        "id": "StTY-8oowz9m"
      }
    },
    {
      "cell_type": "code",
      "source": [
        "from sklearn.model_selection import train_test_split #validacao hold out\n",
        "xtreino, xteste, ytreino, yteste = train_test_split(x , y, test_size= 0.2, random_state= 20)"
      ],
      "metadata": {
        "id": "ZhgdCMnrwxbk"
      },
      "execution_count": null,
      "outputs": []
    },
    {
      "cell_type": "markdown",
      "source": [
        "### Construção de uma rede neural"
      ],
      "metadata": {
        "id": "bo7FcDSqw7Mn"
      }
    },
    {
      "cell_type": "code",
      "source": [
        "### definindo minha entrada (Iniciando minha ANN (input da minha rede))\n",
        "\n",
        "ann= tf.keras.models.Sequential()"
      ],
      "metadata": {
        "id": "3XEMELEKw5JX"
      },
      "execution_count": null,
      "outputs": []
    },
    {
      "cell_type": "code",
      "source": [
        "#criando minha primeira camada\n",
        "\n",
        "ann.add(tf.keras.layers.Dense(units= 6, activation = \"relu\")) #definindo quantos neuroninos (units) e a funcao de ativacao (sigmoid), layers(camadas)"
      ],
      "metadata": {
        "id": "tfp2cr0sxCdA"
      },
      "execution_count": null,
      "outputs": []
    },
    {
      "cell_type": "code",
      "source": [
        "#criando minha primeira camada\n",
        "\n",
        "ann.add(tf.keras.layers.Dense(units= 6, activation = \"relu\")) #definindo quantos neuroninos (units) e a funcao de ativacao (sigmoid), layers(camadas)"
      ],
      "metadata": {
        "id": "Bwz2zcTuzhTN"
      },
      "execution_count": null,
      "outputs": []
    },
    {
      "cell_type": "code",
      "source": [
        "#definindo minha saida (output)\n",
        "\n",
        "ann.add(tf.keras.layers.Dense(units= 1)) #definindo quantos neuroninos (units), layers(camadas)"
      ],
      "metadata": {
        "id": "b_zCue_QxcXW"
      },
      "execution_count": null,
      "outputs": []
    },
    {
      "cell_type": "markdown",
      "source": [
        "### Treinando minha rede de neural"
      ],
      "metadata": {
        "id": "YVTvsAzCxhP6"
      }
    },
    {
      "cell_type": "code",
      "source": [
        "from keras.optimizers import SGD #importando a biblioteca estocastico gradiente descendente\n",
        "\n",
        "sgd= SGD(learning_rate= 0.02) #definindo minha sgd, learning_rate=(taxa de aprendizagem)"
      ],
      "metadata": {
        "id": "LBe-1fdlxgkL"
      },
      "execution_count": null,
      "outputs": []
    },
    {
      "cell_type": "code",
      "source": [
        "ann.compile(loss= \"mean_squared_error\", optimizer= sgd) #mean_squad_error = calcula o (y hat), para encontrar o melhor peso sgd(gradiente descendente)"
      ],
      "metadata": {
        "id": "BPCg-G4ZxsVz"
      },
      "execution_count": null,
      "outputs": []
    },
    {
      "cell_type": "code",
      "source": [
        "#treinando a rede\n",
        "\n",
        "ann.fit(xtreino, ytreino, batch_size= 20, epochs= 120) #batch_size faz o calculo por blocos, epochs quantas vezes ele vai repetir os calculos"
      ],
      "metadata": {
        "colab": {
          "base_uri": "https://localhost:8080/"
        },
        "id": "3EkWrIBMxyF0",
        "outputId": "0325011b-8d70-4352-f969-622aa95d3e33"
      },
      "execution_count": null,
      "outputs": [
        {
          "output_type": "stream",
          "name": "stdout",
          "text": [
            "Epoch 1/120\n",
            "428/428 [==============================] - 1s 2ms/step - loss: 13905307868400868111941632.0000\n",
            "Epoch 2/120\n",
            "428/428 [==============================] - 1s 1ms/step - loss: 160993120.0000\n",
            "Epoch 3/120\n",
            "428/428 [==============================] - 1s 2ms/step - loss: 11555360.0000\n",
            "Epoch 4/120\n",
            "428/428 [==============================] - 1s 2ms/step - loss: 11547637.0000\n",
            "Epoch 5/120\n",
            "428/428 [==============================] - 1s 3ms/step - loss: 11552638.0000\n",
            "Epoch 6/120\n",
            "428/428 [==============================] - 1s 3ms/step - loss: 11551119.0000\n",
            "Epoch 7/120\n",
            "428/428 [==============================] - 1s 2ms/step - loss: 11557316.0000\n",
            "Epoch 8/120\n",
            "428/428 [==============================] - 1s 2ms/step - loss: 11553487.0000\n",
            "Epoch 9/120\n",
            "428/428 [==============================] - 1s 2ms/step - loss: 11558415.0000\n",
            "Epoch 10/120\n",
            "428/428 [==============================] - 1s 2ms/step - loss: 11555317.0000\n",
            "Epoch 11/120\n",
            "428/428 [==============================] - 1s 2ms/step - loss: 11547356.0000\n",
            "Epoch 12/120\n",
            "428/428 [==============================] - 1s 2ms/step - loss: 11561268.0000\n",
            "Epoch 13/120\n",
            "428/428 [==============================] - 1s 2ms/step - loss: 11559422.0000\n",
            "Epoch 14/120\n",
            "428/428 [==============================] - 1s 2ms/step - loss: 11558783.0000\n",
            "Epoch 15/120\n",
            "428/428 [==============================] - 1s 2ms/step - loss: 11552474.0000\n",
            "Epoch 16/120\n",
            "428/428 [==============================] - 1s 2ms/step - loss: 11556459.0000\n",
            "Epoch 17/120\n",
            "428/428 [==============================] - 1s 2ms/step - loss: 11555540.0000\n",
            "Epoch 18/120\n",
            "428/428 [==============================] - 1s 2ms/step - loss: 11557249.0000\n",
            "Epoch 19/120\n",
            "428/428 [==============================] - 1s 2ms/step - loss: 11553492.0000\n",
            "Epoch 20/120\n",
            "428/428 [==============================] - 1s 2ms/step - loss: 11559029.0000\n",
            "Epoch 21/120\n",
            "428/428 [==============================] - 1s 2ms/step - loss: 11556921.0000\n",
            "Epoch 22/120\n",
            "428/428 [==============================] - 1s 2ms/step - loss: 11553864.0000\n",
            "Epoch 23/120\n",
            "428/428 [==============================] - 1s 2ms/step - loss: 11554770.0000\n",
            "Epoch 24/120\n",
            "428/428 [==============================] - 1s 2ms/step - loss: 11554697.0000\n",
            "Epoch 25/120\n",
            "428/428 [==============================] - 1s 2ms/step - loss: 11552816.0000\n",
            "Epoch 26/120\n",
            "428/428 [==============================] - 1s 1ms/step - loss: 11554206.0000\n",
            "Epoch 27/120\n",
            "428/428 [==============================] - 1s 1ms/step - loss: 11551347.0000\n",
            "Epoch 28/120\n",
            "428/428 [==============================] - 1s 2ms/step - loss: 11553255.0000\n",
            "Epoch 29/120\n",
            "428/428 [==============================] - 1s 2ms/step - loss: 11553381.0000\n",
            "Epoch 30/120\n",
            "428/428 [==============================] - 1s 2ms/step - loss: 11553467.0000\n",
            "Epoch 31/120\n",
            "428/428 [==============================] - 1s 1ms/step - loss: 11557130.0000\n",
            "Epoch 32/120\n",
            "428/428 [==============================] - 1s 1ms/step - loss: 11554829.0000\n",
            "Epoch 33/120\n",
            "428/428 [==============================] - 1s 1ms/step - loss: 11558098.0000\n",
            "Epoch 34/120\n",
            "428/428 [==============================] - 1s 1ms/step - loss: 11547117.0000\n",
            "Epoch 35/120\n",
            "428/428 [==============================] - 1s 1ms/step - loss: 11552933.0000\n",
            "Epoch 36/120\n",
            "428/428 [==============================] - 1s 1ms/step - loss: 11554289.0000\n",
            "Epoch 37/120\n",
            "428/428 [==============================] - 1s 1ms/step - loss: 11552784.0000\n",
            "Epoch 38/120\n",
            "428/428 [==============================] - 1s 2ms/step - loss: 11551867.0000\n",
            "Epoch 39/120\n",
            "428/428 [==============================] - 1s 1ms/step - loss: 11548611.0000\n",
            "Epoch 40/120\n",
            "428/428 [==============================] - 1s 2ms/step - loss: 11554960.0000\n",
            "Epoch 41/120\n",
            "428/428 [==============================] - 1s 2ms/step - loss: 11550924.0000\n",
            "Epoch 42/120\n",
            "428/428 [==============================] - 1s 2ms/step - loss: 11546961.0000\n",
            "Epoch 43/120\n",
            "428/428 [==============================] - 1s 2ms/step - loss: 11556206.0000\n",
            "Epoch 44/120\n",
            "428/428 [==============================] - 1s 1ms/step - loss: 11554360.0000\n",
            "Epoch 45/120\n",
            "428/428 [==============================] - 1s 1ms/step - loss: 11555277.0000\n",
            "Epoch 46/120\n",
            "428/428 [==============================] - 1s 1ms/step - loss: 11558251.0000\n",
            "Epoch 47/120\n",
            "428/428 [==============================] - 1s 1ms/step - loss: 11554398.0000\n",
            "Epoch 48/120\n",
            "428/428 [==============================] - 1s 1ms/step - loss: 11555525.0000\n",
            "Epoch 49/120\n",
            "428/428 [==============================] - 1s 2ms/step - loss: 11548646.0000\n",
            "Epoch 50/120\n",
            "428/428 [==============================] - 1s 1ms/step - loss: 11552689.0000\n",
            "Epoch 51/120\n",
            "428/428 [==============================] - 1s 1ms/step - loss: 11551090.0000\n",
            "Epoch 52/120\n",
            "428/428 [==============================] - 1s 2ms/step - loss: 11562586.0000\n",
            "Epoch 53/120\n",
            "428/428 [==============================] - 1s 2ms/step - loss: 11554920.0000\n",
            "Epoch 54/120\n",
            "428/428 [==============================] - 1s 2ms/step - loss: 11556695.0000\n",
            "Epoch 55/120\n",
            "428/428 [==============================] - 1s 2ms/step - loss: 11550876.0000\n",
            "Epoch 56/120\n",
            "428/428 [==============================] - 1s 2ms/step - loss: 11552764.0000\n",
            "Epoch 57/120\n",
            "428/428 [==============================] - 1s 2ms/step - loss: 11554725.0000\n",
            "Epoch 58/120\n",
            "428/428 [==============================] - 1s 2ms/step - loss: 11548527.0000\n",
            "Epoch 59/120\n",
            "428/428 [==============================] - 1s 2ms/step - loss: 11560997.0000\n",
            "Epoch 60/120\n",
            "428/428 [==============================] - 1s 2ms/step - loss: 11549899.0000\n",
            "Epoch 61/120\n",
            "428/428 [==============================] - 1s 2ms/step - loss: 11552219.0000\n",
            "Epoch 62/120\n",
            "428/428 [==============================] - 1s 2ms/step - loss: 11551408.0000\n",
            "Epoch 63/120\n",
            "428/428 [==============================] - 1s 1ms/step - loss: 11550322.0000\n",
            "Epoch 64/120\n",
            "428/428 [==============================] - 1s 1ms/step - loss: 11551088.0000\n",
            "Epoch 65/120\n",
            "428/428 [==============================] - 1s 1ms/step - loss: 11554397.0000\n",
            "Epoch 66/120\n",
            "428/428 [==============================] - 1s 1ms/step - loss: 11553995.0000\n",
            "Epoch 67/120\n",
            "428/428 [==============================] - 1s 2ms/step - loss: 11552496.0000\n",
            "Epoch 68/120\n",
            "428/428 [==============================] - 1s 1ms/step - loss: 11551792.0000\n",
            "Epoch 69/120\n",
            "428/428 [==============================] - 1s 1ms/step - loss: 11561477.0000\n",
            "Epoch 70/120\n",
            "428/428 [==============================] - 1s 1ms/step - loss: 11557059.0000\n",
            "Epoch 71/120\n",
            "428/428 [==============================] - 1s 2ms/step - loss: 11558703.0000\n",
            "Epoch 72/120\n",
            "428/428 [==============================] - 1s 2ms/step - loss: 11545452.0000\n",
            "Epoch 73/120\n",
            "428/428 [==============================] - 1s 2ms/step - loss: 11557911.0000\n",
            "Epoch 74/120\n",
            "428/428 [==============================] - 1s 2ms/step - loss: 11558966.0000\n",
            "Epoch 75/120\n",
            "428/428 [==============================] - 1s 2ms/step - loss: 11550768.0000\n",
            "Epoch 76/120\n",
            "428/428 [==============================] - 1s 2ms/step - loss: 11547228.0000\n",
            "Epoch 77/120\n",
            "428/428 [==============================] - 1s 3ms/step - loss: 11556699.0000\n",
            "Epoch 78/120\n",
            "428/428 [==============================] - 1s 3ms/step - loss: 11553670.0000\n",
            "Epoch 79/120\n",
            "428/428 [==============================] - 1s 2ms/step - loss: 11550829.0000\n",
            "Epoch 80/120\n",
            "428/428 [==============================] - 1s 2ms/step - loss: 11552016.0000\n",
            "Epoch 81/120\n",
            "428/428 [==============================] - 1s 1ms/step - loss: 11557045.0000\n",
            "Epoch 82/120\n",
            "428/428 [==============================] - 1s 1ms/step - loss: 11554603.0000\n",
            "Epoch 83/120\n",
            "428/428 [==============================] - 1s 1ms/step - loss: 11550259.0000\n",
            "Epoch 84/120\n",
            "428/428 [==============================] - 1s 1ms/step - loss: 11551189.0000\n",
            "Epoch 85/120\n",
            "428/428 [==============================] - 1s 1ms/step - loss: 11548854.0000\n",
            "Epoch 86/120\n",
            "428/428 [==============================] - 1s 1ms/step - loss: 11552683.0000\n",
            "Epoch 87/120\n",
            "428/428 [==============================] - 1s 2ms/step - loss: 11548502.0000\n",
            "Epoch 88/120\n",
            "428/428 [==============================] - 1s 2ms/step - loss: 11553802.0000\n",
            "Epoch 89/120\n",
            "428/428 [==============================] - 1s 2ms/step - loss: 11549528.0000\n",
            "Epoch 90/120\n",
            "428/428 [==============================] - 1s 2ms/step - loss: 11554174.0000\n",
            "Epoch 91/120\n",
            "428/428 [==============================] - 1s 2ms/step - loss: 11551759.0000\n",
            "Epoch 92/120\n",
            "428/428 [==============================] - 1s 2ms/step - loss: 11556526.0000\n",
            "Epoch 93/120\n",
            "428/428 [==============================] - 1s 2ms/step - loss: 11546808.0000\n",
            "Epoch 94/120\n",
            "428/428 [==============================] - 1s 1ms/step - loss: 11556075.0000\n",
            "Epoch 95/120\n",
            "428/428 [==============================] - 1s 2ms/step - loss: 11551362.0000\n",
            "Epoch 96/120\n",
            "428/428 [==============================] - 1s 3ms/step - loss: 11556939.0000\n",
            "Epoch 97/120\n",
            "428/428 [==============================] - 1s 3ms/step - loss: 11552157.0000\n",
            "Epoch 98/120\n",
            "428/428 [==============================] - 1s 2ms/step - loss: 11541954.0000\n",
            "Epoch 99/120\n",
            "428/428 [==============================] - 1s 2ms/step - loss: 11557005.0000\n",
            "Epoch 100/120\n",
            "428/428 [==============================] - 1s 1ms/step - loss: 11557186.0000\n",
            "Epoch 101/120\n",
            "428/428 [==============================] - 1s 1ms/step - loss: 11550304.0000\n",
            "Epoch 102/120\n",
            "428/428 [==============================] - 1s 2ms/step - loss: 11543141.0000\n",
            "Epoch 103/120\n",
            "428/428 [==============================] - 1s 2ms/step - loss: 11555196.0000\n",
            "Epoch 104/120\n",
            "428/428 [==============================] - 1s 1ms/step - loss: 11551681.0000\n",
            "Epoch 105/120\n",
            "428/428 [==============================] - 1s 1ms/step - loss: 11549992.0000\n",
            "Epoch 106/120\n",
            "428/428 [==============================] - 1s 1ms/step - loss: 11558628.0000\n",
            "Epoch 107/120\n",
            "428/428 [==============================] - 1s 1ms/step - loss: 11550863.0000\n",
            "Epoch 108/120\n",
            "428/428 [==============================] - 1s 1ms/step - loss: 11554731.0000\n",
            "Epoch 109/120\n",
            "428/428 [==============================] - 1s 1ms/step - loss: 11553795.0000\n",
            "Epoch 110/120\n",
            "428/428 [==============================] - 1s 2ms/step - loss: 11556583.0000\n",
            "Epoch 111/120\n",
            "428/428 [==============================] - 1s 2ms/step - loss: 11549420.0000\n",
            "Epoch 112/120\n",
            "428/428 [==============================] - 1s 2ms/step - loss: 11547993.0000\n",
            "Epoch 113/120\n",
            "428/428 [==============================] - 1s 2ms/step - loss: 11553227.0000\n",
            "Epoch 114/120\n",
            "428/428 [==============================] - 1s 2ms/step - loss: 11547129.0000\n",
            "Epoch 115/120\n",
            "428/428 [==============================] - 1s 2ms/step - loss: 11547848.0000\n",
            "Epoch 116/120\n",
            "428/428 [==============================] - 1s 3ms/step - loss: 11550994.0000\n",
            "Epoch 117/120\n",
            "428/428 [==============================] - 1s 2ms/step - loss: 11553620.0000\n",
            "Epoch 118/120\n",
            "428/428 [==============================] - 1s 1ms/step - loss: 11553529.0000\n",
            "Epoch 119/120\n",
            "428/428 [==============================] - 1s 2ms/step - loss: 11554012.0000\n",
            "Epoch 120/120\n",
            "428/428 [==============================] - 1s 2ms/step - loss: 11551453.0000\n"
          ]
        },
        {
          "output_type": "execute_result",
          "data": {
            "text/plain": [
              "<keras.src.callbacks.History at 0x7ef80674ee30>"
            ]
          },
          "metadata": {},
          "execution_count": 65
        }
      ]
    },
    {
      "cell_type": "markdown",
      "source": [
        "### Validação"
      ],
      "metadata": {
        "id": "Pxjlejpfx2yb"
      }
    },
    {
      "cell_type": "code",
      "source": [
        "y_predito = ann.predict(xteste)"
      ],
      "metadata": {
        "colab": {
          "base_uri": "https://localhost:8080/"
        },
        "id": "NDc7E9UYx5Ej",
        "outputId": "40a29d7d-ccc2-48cf-e1b8-789b913ffd7b"
      },
      "execution_count": null,
      "outputs": [
        {
          "output_type": "stream",
          "name": "stdout",
          "text": [
            "67/67 [==============================] - 0s 1ms/step\n"
          ]
        }
      ]
    },
    {
      "cell_type": "code",
      "source": [
        "y_predito"
      ],
      "metadata": {
        "colab": {
          "base_uri": "https://localhost:8080/"
        },
        "id": "7WVP3Tkpx8u8",
        "outputId": "ab134f9e-e108-428c-f8fa-8b78e2a272c9"
      },
      "execution_count": null,
      "outputs": [
        {
          "output_type": "execute_result",
          "data": {
            "text/plain": [
              "array([[3717.109],\n",
              "       [3717.109],\n",
              "       [3717.109],\n",
              "       ...,\n",
              "       [3717.109],\n",
              "       [3717.109],\n",
              "       [3717.109]], dtype=float32)"
            ]
          },
          "metadata": {},
          "execution_count": 67
        }
      ]
    },
    {
      "cell_type": "markdown",
      "source": [
        "#### Na nossa rede neural desenvolvemos duas camadas, cada uma com 6 neurônios, e com a mesma função de ativação que foi a \"relu\" (A função ReLU ativa uma unidade neural se o valor de entrada for positivo e a desativa se for negativo), nossas features foram as mesmas das previsões que fizemos com dois algoritmos diferentes em machine learnig : area, quartos, mobiliada. Vamos para as comparações entre os algoritmos de machine learning e a nossa rede neural:\n",
        "\n",
        "\n",
        "1.   Resultado da previsão com regressão linear: 7374984.32\n",
        "2.   Resultado da previsão com KNN: 5293210.41\n",
        "3.   Resultado da previsão com a Rede neural utilizando gradiente descendente: 3717.109\n",
        "\n",
        "### Neste caso se formos comparar o desempenho e a previsão dos algoritmos de Machine learning e a rede neural que criamos, a previsão desta rede neural usando o gradiente descendente estocástico foi melhor.\n",
        "\n",
        "\n",
        "\n"
      ],
      "metadata": {
        "id": "OjSRekMOB-Dr"
      }
    }
  ]
}